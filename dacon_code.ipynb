{
 "cells": [
  {
   "cell_type": "code",
   "execution_count": 15,
   "metadata": {
    "ExecuteTime": {
     "end_time": "2021-08-19T08:04:30.480842Z",
     "start_time": "2021-08-19T08:04:30.477867Z"
    }
   },
   "outputs": [],
   "source": [
    "import pandas as pd\n",
    "import numpy as np\n",
    "import os\n",
    "import FinanceDataReader as fdr\n",
    "from sklearn.linear_model import LinearRegression\n",
    "from tqdm import tqdm"
   ]
  },
  {
   "cell_type": "code",
   "execution_count": 7,
   "metadata": {
    "ExecuteTime": {
     "end_time": "2021-08-19T07:57:49.800070Z",
     "start_time": "2021-08-19T07:57:49.783772Z"
    }
   },
   "outputs": [
    {
     "data": {
      "text/html": [
       "<div>\n",
       "<style scoped>\n",
       "    .dataframe tbody tr th:only-of-type {\n",
       "        vertical-align: middle;\n",
       "    }\n",
       "\n",
       "    .dataframe tbody tr th {\n",
       "        vertical-align: top;\n",
       "    }\n",
       "\n",
       "    .dataframe thead th {\n",
       "        text-align: right;\n",
       "    }\n",
       "</style>\n",
       "<table border=\"1\" class=\"dataframe\">\n",
       "  <thead>\n",
       "    <tr style=\"text-align: right;\">\n",
       "      <th></th>\n",
       "      <th>종목명</th>\n",
       "      <th>종목코드</th>\n",
       "      <th>상장시장</th>\n",
       "    </tr>\n",
       "  </thead>\n",
       "  <tbody>\n",
       "    <tr>\n",
       "      <th>0</th>\n",
       "      <td>삼성전자</td>\n",
       "      <td>005930</td>\n",
       "      <td>KOSPI</td>\n",
       "    </tr>\n",
       "    <tr>\n",
       "      <th>1</th>\n",
       "      <td>SK하이닉스</td>\n",
       "      <td>000660</td>\n",
       "      <td>KOSPI</td>\n",
       "    </tr>\n",
       "    <tr>\n",
       "      <th>2</th>\n",
       "      <td>NAVER</td>\n",
       "      <td>035420</td>\n",
       "      <td>KOSPI</td>\n",
       "    </tr>\n",
       "    <tr>\n",
       "      <th>3</th>\n",
       "      <td>카카오</td>\n",
       "      <td>035720</td>\n",
       "      <td>KOSPI</td>\n",
       "    </tr>\n",
       "    <tr>\n",
       "      <th>4</th>\n",
       "      <td>삼성바이오로직스</td>\n",
       "      <td>207940</td>\n",
       "      <td>KOSPI</td>\n",
       "    </tr>\n",
       "    <tr>\n",
       "      <th>...</th>\n",
       "      <td>...</td>\n",
       "      <td>...</td>\n",
       "      <td>...</td>\n",
       "    </tr>\n",
       "    <tr>\n",
       "      <th>371</th>\n",
       "      <td>더네이쳐홀딩스</td>\n",
       "      <td>298540</td>\n",
       "      <td>KOSDAQ</td>\n",
       "    </tr>\n",
       "    <tr>\n",
       "      <th>372</th>\n",
       "      <td>코엔텍</td>\n",
       "      <td>029960</td>\n",
       "      <td>KOSDAQ</td>\n",
       "    </tr>\n",
       "    <tr>\n",
       "      <th>373</th>\n",
       "      <td>원익홀딩스</td>\n",
       "      <td>030530</td>\n",
       "      <td>KOSDAQ</td>\n",
       "    </tr>\n",
       "    <tr>\n",
       "      <th>374</th>\n",
       "      <td>웹케시</td>\n",
       "      <td>053580</td>\n",
       "      <td>KOSDAQ</td>\n",
       "    </tr>\n",
       "    <tr>\n",
       "      <th>375</th>\n",
       "      <td>신흥에스이씨</td>\n",
       "      <td>243840</td>\n",
       "      <td>KOSDAQ</td>\n",
       "    </tr>\n",
       "  </tbody>\n",
       "</table>\n",
       "<p>376 rows × 3 columns</p>\n",
       "</div>"
      ],
      "text/plain": [
       "          종목명    종목코드    상장시장\n",
       "0        삼성전자  005930   KOSPI\n",
       "1      SK하이닉스  000660   KOSPI\n",
       "2       NAVER  035420   KOSPI\n",
       "3         카카오  035720   KOSPI\n",
       "4    삼성바이오로직스  207940   KOSPI\n",
       "..        ...     ...     ...\n",
       "371   더네이쳐홀딩스  298540  KOSDAQ\n",
       "372       코엔텍  029960  KOSDAQ\n",
       "373     원익홀딩스  030530  KOSDAQ\n",
       "374       웹케시  053580  KOSDAQ\n",
       "375    신흥에스이씨  243840  KOSDAQ\n",
       "\n",
       "[376 rows x 3 columns]"
      ]
     },
     "execution_count": 7,
     "metadata": {},
     "output_type": "execute_result"
    }
   ],
   "source": [
    "path = './open'\n",
    "list_name = 'Stock_list.csv'\n",
    "sample_name = 'sample_submision.csv'\n",
    "\n",
    "stock_list = pd.read_csv(os.path.join(path, list_name))\n",
    "stock_list['종목코드'] = stock_list['종목코드'].apply(lambda x : str(x).zfill(6))\n",
    "stock_list"
   ]
  },
  {
   "cell_type": "code",
   "execution_count": 8,
   "metadata": {
    "ExecuteTime": {
     "end_time": "2021-08-19T08:00:37.375872Z",
     "start_time": "2021-08-19T08:00:37.362299Z"
    }
   },
   "outputs": [
    {
     "name": "stdout",
     "output_type": "stream",
     "text": [
      "WEEKDAY of \"start_date\" : 0\n",
      "NUM of WEEKS to \"end_date\" : 32\n",
      "HOW MANY \"Business_days\" : (160, 1)\n"
     ]
    },
    {
     "data": {
      "text/html": [
       "<div>\n",
       "<style scoped>\n",
       "    .dataframe tbody tr th:only-of-type {\n",
       "        vertical-align: middle;\n",
       "    }\n",
       "\n",
       "    .dataframe tbody tr th {\n",
       "        vertical-align: top;\n",
       "    }\n",
       "\n",
       "    .dataframe thead th {\n",
       "        text-align: right;\n",
       "    }\n",
       "</style>\n",
       "<table border=\"1\" class=\"dataframe\">\n",
       "  <thead>\n",
       "    <tr style=\"text-align: right;\">\n",
       "      <th></th>\n",
       "      <th>Date</th>\n",
       "    </tr>\n",
       "  </thead>\n",
       "  <tbody>\n",
       "    <tr>\n",
       "      <th>0</th>\n",
       "      <td>2021-01-04</td>\n",
       "    </tr>\n",
       "    <tr>\n",
       "      <th>1</th>\n",
       "      <td>2021-01-05</td>\n",
       "    </tr>\n",
       "    <tr>\n",
       "      <th>2</th>\n",
       "      <td>2021-01-06</td>\n",
       "    </tr>\n",
       "    <tr>\n",
       "      <th>3</th>\n",
       "      <td>2021-01-07</td>\n",
       "    </tr>\n",
       "    <tr>\n",
       "      <th>4</th>\n",
       "      <td>2021-01-08</td>\n",
       "    </tr>\n",
       "  </tbody>\n",
       "</table>\n",
       "</div>"
      ],
      "text/plain": [
       "        Date\n",
       "0 2021-01-04\n",
       "1 2021-01-05\n",
       "2 2021-01-06\n",
       "3 2021-01-07\n",
       "4 2021-01-08"
      ]
     },
     "metadata": {},
     "output_type": "display_data"
    }
   ],
   "source": [
    "start_date = '20210104'\n",
    "end_date = '20210813'\n",
    "\n",
    "start_weekday = pd.to_datetime(start_date).weekday()\n",
    "max_weeknum = pd.to_datetime(end_date).strftime('%V')\n",
    "Business_days = pd.DataFrame(pd.date_range(start_date, end_date, freq = 'B'), columns = ['Date'])\n",
    "\n",
    "print(f'WEEKDAY of \"start_date\" : {start_weekday}')\n",
    "print(f'NUM of WEEKS to \"end_date\" : {max_weeknum}')\n",
    "print(f'HOW MANY \"Business_days\" : {Business_days.shape}', )\n",
    "display(Business_days.head())"
   ]
  },
  {
   "cell_type": "code",
   "execution_count": 9,
   "metadata": {
    "ExecuteTime": {
     "end_time": "2021-08-19T08:04:06.100434Z",
     "start_time": "2021-08-19T08:04:05.583973Z"
    }
   },
   "outputs": [
    {
     "data": {
      "text/html": [
       "<div>\n",
       "<style scoped>\n",
       "    .dataframe tbody tr th:only-of-type {\n",
       "        vertical-align: middle;\n",
       "    }\n",
       "\n",
       "    .dataframe tbody tr th {\n",
       "        vertical-align: top;\n",
       "    }\n",
       "\n",
       "    .dataframe thead th {\n",
       "        text-align: right;\n",
       "    }\n",
       "</style>\n",
       "<table border=\"1\" class=\"dataframe\">\n",
       "  <thead>\n",
       "    <tr style=\"text-align: right;\">\n",
       "      <th>weekday</th>\n",
       "      <th>0</th>\n",
       "      <th>1</th>\n",
       "      <th>2</th>\n",
       "      <th>3</th>\n",
       "      <th>4</th>\n",
       "    </tr>\n",
       "    <tr>\n",
       "      <th>weeknum</th>\n",
       "      <th></th>\n",
       "      <th></th>\n",
       "      <th></th>\n",
       "      <th></th>\n",
       "      <th></th>\n",
       "    </tr>\n",
       "  </thead>\n",
       "  <tbody>\n",
       "    <tr>\n",
       "      <th>01</th>\n",
       "      <td>83000.0</td>\n",
       "      <td>83900.0</td>\n",
       "      <td>82200.0</td>\n",
       "      <td>82900.0</td>\n",
       "      <td>88800.0</td>\n",
       "    </tr>\n",
       "    <tr>\n",
       "      <th>02</th>\n",
       "      <td>91000.0</td>\n",
       "      <td>90600.0</td>\n",
       "      <td>89700.0</td>\n",
       "      <td>89700.0</td>\n",
       "      <td>88000.0</td>\n",
       "    </tr>\n",
       "    <tr>\n",
       "      <th>03</th>\n",
       "      <td>85000.0</td>\n",
       "      <td>87000.0</td>\n",
       "      <td>87200.0</td>\n",
       "      <td>88100.0</td>\n",
       "      <td>86800.0</td>\n",
       "    </tr>\n",
       "    <tr>\n",
       "      <th>04</th>\n",
       "      <td>89400.0</td>\n",
       "      <td>86700.0</td>\n",
       "      <td>85600.0</td>\n",
       "      <td>83700.0</td>\n",
       "      <td>82000.0</td>\n",
       "    </tr>\n",
       "    <tr>\n",
       "      <th>05</th>\n",
       "      <td>83000.0</td>\n",
       "      <td>84400.0</td>\n",
       "      <td>84600.0</td>\n",
       "      <td>82500.0</td>\n",
       "      <td>83500.0</td>\n",
       "    </tr>\n",
       "  </tbody>\n",
       "</table>\n",
       "</div>"
      ],
      "text/plain": [
       "weekday        0        1        2        3        4\n",
       "weeknum                                             \n",
       "01       83000.0  83900.0  82200.0  82900.0  88800.0\n",
       "02       91000.0  90600.0  89700.0  89700.0  88000.0\n",
       "03       85000.0  87000.0  87200.0  88100.0  86800.0\n",
       "04       89400.0  86700.0  85600.0  83700.0  82000.0\n",
       "05       83000.0  84400.0  84600.0  82500.0  83500.0"
      ]
     },
     "execution_count": 9,
     "metadata": {},
     "output_type": "execute_result"
    }
   ],
   "source": [
    "sample_code = stock_list.loc[0,'종목코드']\n",
    "\n",
    "sample = fdr.DataReader(sample_code, start = start_date, end = end_date)[['Close']].reset_index()\n",
    "sample = pd.merge(Business_days, sample, how = 'outer')\n",
    "sample['weekday'] = sample.Date.apply(lambda x : x.weekday())\n",
    "sample['weeknum'] = sample.Date.apply(lambda x : x.strftime('%V'))\n",
    "sample.Close = sample.Close.ffill()\n",
    "sample = pd.pivot_table(data = sample, values = 'Close', columns = 'weekday', index = 'weeknum')\n",
    "sample.head()"
   ]
  },
  {
   "cell_type": "code",
   "execution_count": 10,
   "metadata": {
    "ExecuteTime": {
     "end_time": "2021-08-19T08:04:08.503117Z",
     "start_time": "2021-08-19T08:04:08.500915Z"
    }
   },
   "outputs": [],
   "source": [
    "model = LinearRegression()"
   ]
  },
  {
   "cell_type": "code",
   "execution_count": 11,
   "metadata": {
    "ExecuteTime": {
     "end_time": "2021-08-19T08:04:09.455529Z",
     "start_time": "2021-08-19T08:04:09.451497Z"
    }
   },
   "outputs": [
    {
     "data": {
      "text/plain": [
       "(30, 5)"
      ]
     },
     "execution_count": 11,
     "metadata": {},
     "output_type": "execute_result"
    }
   ],
   "source": [
    "x = sample.iloc[0:-2].to_numpy()\n",
    "x.shape"
   ]
  },
  {
   "cell_type": "code",
   "execution_count": 12,
   "metadata": {
    "ExecuteTime": {
     "end_time": "2021-08-19T08:04:10.161216Z",
     "start_time": "2021-08-19T08:04:10.157082Z"
    }
   },
   "outputs": [],
   "source": [
    "y = sample.iloc[1:-1].to_numpy()\n",
    "y_0 = y[:,0]\n",
    "y_1 = y[:,1]\n",
    "y_2 = y[:,2]\n",
    "y_3 = y[:,3]\n",
    "y_4 = y[:,4]\n",
    "\n",
    "y_values = [y_0, y_1, y_2, y_3, y_4]"
   ]
  },
  {
   "cell_type": "code",
   "execution_count": 13,
   "metadata": {
    "ExecuteTime": {
     "end_time": "2021-08-19T08:04:12.425746Z",
     "start_time": "2021-08-19T08:04:12.422724Z"
    }
   },
   "outputs": [],
   "source": [
    "# 7월 마지막 주 데이터 (31주차 데이터)\n",
    "x_public = sample.iloc[-2].to_numpy()"
   ]
  },
  {
   "cell_type": "code",
   "execution_count": 16,
   "metadata": {
    "ExecuteTime": {
     "end_time": "2021-08-19T08:04:34.237273Z",
     "start_time": "2021-08-19T08:04:34.229727Z"
    }
   },
   "outputs": [
    {
     "data": {
      "text/plain": [
       "[81651.47003256956,\n",
       " 80637.66402016714,\n",
       " 80063.78403724232,\n",
       " 80261.05815274538,\n",
       " 80566.37823375824]"
      ]
     },
     "execution_count": 16,
     "metadata": {},
     "output_type": "execute_result"
    }
   ],
   "source": [
    "predictions = []\n",
    "for y_value in y_values :\n",
    "    model.fit(x,y_value)\n",
    "    prediction = model.predict(np.expand_dims(x_public,0))\n",
    "    predictions.append(prediction[0])\n",
    "predictions"
   ]
  },
  {
   "cell_type": "code",
   "execution_count": 17,
   "metadata": {
    "ExecuteTime": {
     "end_time": "2021-08-19T08:04:35.305808Z",
     "start_time": "2021-08-19T08:04:35.301843Z"
    }
   },
   "outputs": [
    {
     "data": {
      "text/plain": [
       "array([81500., 80200., 78500., 77000., 74400.])"
      ]
     },
     "execution_count": 17,
     "metadata": {},
     "output_type": "execute_result"
    }
   ],
   "source": [
    "sample.iloc[-1].values"
   ]
  },
  {
   "cell_type": "markdown",
   "metadata": {},
   "source": [
    "# 전체 모델링"
   ]
  },
  {
   "cell_type": "code",
   "execution_count": 18,
   "metadata": {
    "ExecuteTime": {
     "end_time": "2021-08-19T08:04:36.683720Z",
     "start_time": "2021-08-19T08:04:36.652767Z"
    }
   },
   "outputs": [],
   "source": [
    "sample_name = 'sample_submission.csv'\n",
    "sample_submission = pd.read_csv(os.path.join(path,sample_name))"
   ]
  },
  {
   "cell_type": "code",
   "execution_count": 19,
   "metadata": {
    "ExecuteTime": {
     "end_time": "2021-08-19T08:05:42.437909Z",
     "start_time": "2021-08-19T08:04:37.296454Z"
    }
   },
   "outputs": [
    {
     "name": "stderr",
     "output_type": "stream",
     "text": [
      "100%|██████████| 376/376 [01:05<00:00,  5.77it/s]\n"
     ]
    },
    {
     "data": {
      "text/plain": [
       "0"
      ]
     },
     "execution_count": 19,
     "metadata": {},
     "output_type": "execute_result"
    }
   ],
   "source": [
    "model = LinearRegression()\n",
    "for code in tqdm(stock_list['종목코드'].values):\n",
    "    data = fdr.DataReader(code, start = start_date, end = end_date)[['Close']].reset_index()\n",
    "    data = pd.merge(Business_days, data, how = 'outer')\n",
    "    data['weekday'] = data.Date.apply(lambda x : x.weekday())\n",
    "    data['weeknum'] = data.Date.apply(lambda x : x.strftime('%V'))\n",
    "    data.Close = data.Close.ffill()\n",
    "    data = pd.pivot_table(data = data, values = 'Close', columns = 'weekday', index = 'weeknum')\n",
    "    \n",
    "    x = data.iloc[0:-2].to_numpy()\n",
    "    y = data.iloc[1:-1].to_numpy()\n",
    "    y_0 = y[:,0]\n",
    "    y_1 = y[:,1]\n",
    "    y_2 = y[:,2]\n",
    "    y_3 = y[:,3]\n",
    "    y_4 = y[:,4]\n",
    "\n",
    "    y_values = [y_0, y_1, y_2, y_3, y_4]\n",
    "    x_public = data.iloc[-2].to_numpy()\n",
    "    \n",
    "    predictions = []\n",
    "    for y_value in y_values :\n",
    "        model.fit(x,y_value)\n",
    "        prediction = model.predict(np.expand_dims(x_public,0))\n",
    "        predictions.append(prediction[0])\n",
    "    sample_submission.loc[:,code] = predictions * 2\n",
    "sample_submission.isna().sum().sum()"
   ]
  },
  {
   "cell_type": "code",
   "execution_count": 20,
   "metadata": {
    "ExecuteTime": {
     "end_time": "2021-08-19T08:05:45.700631Z",
     "start_time": "2021-08-19T08:05:45.685416Z"
    }
   },
   "outputs": [],
   "source": [
    "sample_submission.to_csv('BASELINE_Linear.csv', index = False)"
   ]
  },
  {
   "cell_type": "code",
   "execution_count": 21,
   "metadata": {
    "ExecuteTime": {
     "end_time": "2021-08-19T08:05:46.331265Z",
     "start_time": "2021-08-19T08:05:46.305313Z"
    }
   },
   "outputs": [
    {
     "data": {
      "text/html": [
       "<div>\n",
       "<style scoped>\n",
       "    .dataframe tbody tr th:only-of-type {\n",
       "        vertical-align: middle;\n",
       "    }\n",
       "\n",
       "    .dataframe tbody tr th {\n",
       "        vertical-align: top;\n",
       "    }\n",
       "\n",
       "    .dataframe thead th {\n",
       "        text-align: right;\n",
       "    }\n",
       "</style>\n",
       "<table border=\"1\" class=\"dataframe\">\n",
       "  <thead>\n",
       "    <tr style=\"text-align: right;\">\n",
       "      <th></th>\n",
       "      <th>Day</th>\n",
       "      <th>000060</th>\n",
       "      <th>000080</th>\n",
       "      <th>000100</th>\n",
       "      <th>000120</th>\n",
       "      <th>000150</th>\n",
       "      <th>000240</th>\n",
       "      <th>000250</th>\n",
       "      <th>000270</th>\n",
       "      <th>000660</th>\n",
       "      <th>...</th>\n",
       "      <th>330860</th>\n",
       "      <th>336260</th>\n",
       "      <th>336370</th>\n",
       "      <th>347860</th>\n",
       "      <th>348150</th>\n",
       "      <th>348210</th>\n",
       "      <th>352820</th>\n",
       "      <th>357780</th>\n",
       "      <th>363280</th>\n",
       "      <th>950130</th>\n",
       "    </tr>\n",
       "  </thead>\n",
       "  <tbody>\n",
       "    <tr>\n",
       "      <th>0</th>\n",
       "      <td>2021-08-09</td>\n",
       "      <td>25088.774605</td>\n",
       "      <td>34714.183395</td>\n",
       "      <td>62354.858793</td>\n",
       "      <td>174148.357879</td>\n",
       "      <td>99645.991440</td>\n",
       "      <td>18450.666819</td>\n",
       "      <td>57349.368469</td>\n",
       "      <td>85569.646903</td>\n",
       "      <td>118405.569322</td>\n",
       "      <td>...</td>\n",
       "      <td>54361.462752</td>\n",
       "      <td>50296.960691</td>\n",
       "      <td>62560.506714</td>\n",
       "      <td>41039.206014</td>\n",
       "      <td>31038.382064</td>\n",
       "      <td>60263.374643</td>\n",
       "      <td>308513.364845</td>\n",
       "      <td>334624.895895</td>\n",
       "      <td>31542.191165</td>\n",
       "      <td>27997.595012</td>\n",
       "    </tr>\n",
       "    <tr>\n",
       "      <th>1</th>\n",
       "      <td>2021-08-10</td>\n",
       "      <td>25310.344434</td>\n",
       "      <td>34906.631547</td>\n",
       "      <td>62421.045224</td>\n",
       "      <td>175344.854125</td>\n",
       "      <td>99456.811020</td>\n",
       "      <td>18545.155882</td>\n",
       "      <td>57910.759392</td>\n",
       "      <td>85674.606760</td>\n",
       "      <td>117799.663627</td>\n",
       "      <td>...</td>\n",
       "      <td>53713.801608</td>\n",
       "      <td>50024.815124</td>\n",
       "      <td>61815.110556</td>\n",
       "      <td>38727.259930</td>\n",
       "      <td>31501.793919</td>\n",
       "      <td>60965.999742</td>\n",
       "      <td>308613.184035</td>\n",
       "      <td>329380.415292</td>\n",
       "      <td>31296.168187</td>\n",
       "      <td>27805.808610</td>\n",
       "    </tr>\n",
       "    <tr>\n",
       "      <th>2</th>\n",
       "      <td>2021-08-11</td>\n",
       "      <td>25477.476177</td>\n",
       "      <td>34760.123065</td>\n",
       "      <td>62327.310315</td>\n",
       "      <td>179012.587170</td>\n",
       "      <td>98170.364318</td>\n",
       "      <td>18504.002732</td>\n",
       "      <td>58975.654433</td>\n",
       "      <td>85955.600532</td>\n",
       "      <td>117706.256291</td>\n",
       "      <td>...</td>\n",
       "      <td>54992.782414</td>\n",
       "      <td>50420.069668</td>\n",
       "      <td>61470.855325</td>\n",
       "      <td>38131.961839</td>\n",
       "      <td>31712.516670</td>\n",
       "      <td>61642.918332</td>\n",
       "      <td>307185.993759</td>\n",
       "      <td>329177.608851</td>\n",
       "      <td>31421.097728</td>\n",
       "      <td>28045.752600</td>\n",
       "    </tr>\n",
       "    <tr>\n",
       "      <th>3</th>\n",
       "      <td>2021-08-12</td>\n",
       "      <td>26173.790699</td>\n",
       "      <td>34920.540019</td>\n",
       "      <td>62012.861722</td>\n",
       "      <td>179203.939916</td>\n",
       "      <td>94559.290810</td>\n",
       "      <td>18559.460101</td>\n",
       "      <td>59168.801436</td>\n",
       "      <td>85695.685306</td>\n",
       "      <td>116628.596503</td>\n",
       "      <td>...</td>\n",
       "      <td>53216.691798</td>\n",
       "      <td>50168.091037</td>\n",
       "      <td>62373.488049</td>\n",
       "      <td>37203.504309</td>\n",
       "      <td>31618.857532</td>\n",
       "      <td>62218.118154</td>\n",
       "      <td>308168.046414</td>\n",
       "      <td>332080.961423</td>\n",
       "      <td>31095.700330</td>\n",
       "      <td>27760.830942</td>\n",
       "    </tr>\n",
       "    <tr>\n",
       "      <th>4</th>\n",
       "      <td>2021-08-13</td>\n",
       "      <td>26294.615190</td>\n",
       "      <td>35050.362444</td>\n",
       "      <td>62206.564371</td>\n",
       "      <td>176981.309028</td>\n",
       "      <td>94130.395799</td>\n",
       "      <td>18470.399872</td>\n",
       "      <td>58578.363991</td>\n",
       "      <td>85917.695693</td>\n",
       "      <td>117312.379453</td>\n",
       "      <td>...</td>\n",
       "      <td>53570.439760</td>\n",
       "      <td>50379.607826</td>\n",
       "      <td>62252.456624</td>\n",
       "      <td>37036.563545</td>\n",
       "      <td>31900.015153</td>\n",
       "      <td>61979.602842</td>\n",
       "      <td>306452.057782</td>\n",
       "      <td>332925.043789</td>\n",
       "      <td>31474.534603</td>\n",
       "      <td>27778.484687</td>\n",
       "    </tr>\n",
       "    <tr>\n",
       "      <th>5</th>\n",
       "      <td>2021-08-30</td>\n",
       "      <td>25088.774605</td>\n",
       "      <td>34714.183395</td>\n",
       "      <td>62354.858793</td>\n",
       "      <td>174148.357879</td>\n",
       "      <td>99645.991440</td>\n",
       "      <td>18450.666819</td>\n",
       "      <td>57349.368469</td>\n",
       "      <td>85569.646903</td>\n",
       "      <td>118405.569322</td>\n",
       "      <td>...</td>\n",
       "      <td>54361.462752</td>\n",
       "      <td>50296.960691</td>\n",
       "      <td>62560.506714</td>\n",
       "      <td>41039.206014</td>\n",
       "      <td>31038.382064</td>\n",
       "      <td>60263.374643</td>\n",
       "      <td>308513.364845</td>\n",
       "      <td>334624.895895</td>\n",
       "      <td>31542.191165</td>\n",
       "      <td>27997.595012</td>\n",
       "    </tr>\n",
       "    <tr>\n",
       "      <th>6</th>\n",
       "      <td>2021-08-31</td>\n",
       "      <td>25310.344434</td>\n",
       "      <td>34906.631547</td>\n",
       "      <td>62421.045224</td>\n",
       "      <td>175344.854125</td>\n",
       "      <td>99456.811020</td>\n",
       "      <td>18545.155882</td>\n",
       "      <td>57910.759392</td>\n",
       "      <td>85674.606760</td>\n",
       "      <td>117799.663627</td>\n",
       "      <td>...</td>\n",
       "      <td>53713.801608</td>\n",
       "      <td>50024.815124</td>\n",
       "      <td>61815.110556</td>\n",
       "      <td>38727.259930</td>\n",
       "      <td>31501.793919</td>\n",
       "      <td>60965.999742</td>\n",
       "      <td>308613.184035</td>\n",
       "      <td>329380.415292</td>\n",
       "      <td>31296.168187</td>\n",
       "      <td>27805.808610</td>\n",
       "    </tr>\n",
       "    <tr>\n",
       "      <th>7</th>\n",
       "      <td>2021-09-01</td>\n",
       "      <td>25477.476177</td>\n",
       "      <td>34760.123065</td>\n",
       "      <td>62327.310315</td>\n",
       "      <td>179012.587170</td>\n",
       "      <td>98170.364318</td>\n",
       "      <td>18504.002732</td>\n",
       "      <td>58975.654433</td>\n",
       "      <td>85955.600532</td>\n",
       "      <td>117706.256291</td>\n",
       "      <td>...</td>\n",
       "      <td>54992.782414</td>\n",
       "      <td>50420.069668</td>\n",
       "      <td>61470.855325</td>\n",
       "      <td>38131.961839</td>\n",
       "      <td>31712.516670</td>\n",
       "      <td>61642.918332</td>\n",
       "      <td>307185.993759</td>\n",
       "      <td>329177.608851</td>\n",
       "      <td>31421.097728</td>\n",
       "      <td>28045.752600</td>\n",
       "    </tr>\n",
       "    <tr>\n",
       "      <th>8</th>\n",
       "      <td>2021-09-02</td>\n",
       "      <td>26173.790699</td>\n",
       "      <td>34920.540019</td>\n",
       "      <td>62012.861722</td>\n",
       "      <td>179203.939916</td>\n",
       "      <td>94559.290810</td>\n",
       "      <td>18559.460101</td>\n",
       "      <td>59168.801436</td>\n",
       "      <td>85695.685306</td>\n",
       "      <td>116628.596503</td>\n",
       "      <td>...</td>\n",
       "      <td>53216.691798</td>\n",
       "      <td>50168.091037</td>\n",
       "      <td>62373.488049</td>\n",
       "      <td>37203.504309</td>\n",
       "      <td>31618.857532</td>\n",
       "      <td>62218.118154</td>\n",
       "      <td>308168.046414</td>\n",
       "      <td>332080.961423</td>\n",
       "      <td>31095.700330</td>\n",
       "      <td>27760.830942</td>\n",
       "    </tr>\n",
       "    <tr>\n",
       "      <th>9</th>\n",
       "      <td>2021-09-03</td>\n",
       "      <td>26294.615190</td>\n",
       "      <td>35050.362444</td>\n",
       "      <td>62206.564371</td>\n",
       "      <td>176981.309028</td>\n",
       "      <td>94130.395799</td>\n",
       "      <td>18470.399872</td>\n",
       "      <td>58578.363991</td>\n",
       "      <td>85917.695693</td>\n",
       "      <td>117312.379453</td>\n",
       "      <td>...</td>\n",
       "      <td>53570.439760</td>\n",
       "      <td>50379.607826</td>\n",
       "      <td>62252.456624</td>\n",
       "      <td>37036.563545</td>\n",
       "      <td>31900.015153</td>\n",
       "      <td>61979.602842</td>\n",
       "      <td>306452.057782</td>\n",
       "      <td>332925.043789</td>\n",
       "      <td>31474.534603</td>\n",
       "      <td>27778.484687</td>\n",
       "    </tr>\n",
       "  </tbody>\n",
       "</table>\n",
       "<p>10 rows × 377 columns</p>\n",
       "</div>"
      ],
      "text/plain": [
       "          Day        000060        000080        000100         000120  \\\n",
       "0  2021-08-09  25088.774605  34714.183395  62354.858793  174148.357879   \n",
       "1  2021-08-10  25310.344434  34906.631547  62421.045224  175344.854125   \n",
       "2  2021-08-11  25477.476177  34760.123065  62327.310315  179012.587170   \n",
       "3  2021-08-12  26173.790699  34920.540019  62012.861722  179203.939916   \n",
       "4  2021-08-13  26294.615190  35050.362444  62206.564371  176981.309028   \n",
       "5  2021-08-30  25088.774605  34714.183395  62354.858793  174148.357879   \n",
       "6  2021-08-31  25310.344434  34906.631547  62421.045224  175344.854125   \n",
       "7  2021-09-01  25477.476177  34760.123065  62327.310315  179012.587170   \n",
       "8  2021-09-02  26173.790699  34920.540019  62012.861722  179203.939916   \n",
       "9  2021-09-03  26294.615190  35050.362444  62206.564371  176981.309028   \n",
       "\n",
       "         000150        000240        000250        000270         000660  ...  \\\n",
       "0  99645.991440  18450.666819  57349.368469  85569.646903  118405.569322  ...   \n",
       "1  99456.811020  18545.155882  57910.759392  85674.606760  117799.663627  ...   \n",
       "2  98170.364318  18504.002732  58975.654433  85955.600532  117706.256291  ...   \n",
       "3  94559.290810  18559.460101  59168.801436  85695.685306  116628.596503  ...   \n",
       "4  94130.395799  18470.399872  58578.363991  85917.695693  117312.379453  ...   \n",
       "5  99645.991440  18450.666819  57349.368469  85569.646903  118405.569322  ...   \n",
       "6  99456.811020  18545.155882  57910.759392  85674.606760  117799.663627  ...   \n",
       "7  98170.364318  18504.002732  58975.654433  85955.600532  117706.256291  ...   \n",
       "8  94559.290810  18559.460101  59168.801436  85695.685306  116628.596503  ...   \n",
       "9  94130.395799  18470.399872  58578.363991  85917.695693  117312.379453  ...   \n",
       "\n",
       "         330860        336260        336370        347860        348150  \\\n",
       "0  54361.462752  50296.960691  62560.506714  41039.206014  31038.382064   \n",
       "1  53713.801608  50024.815124  61815.110556  38727.259930  31501.793919   \n",
       "2  54992.782414  50420.069668  61470.855325  38131.961839  31712.516670   \n",
       "3  53216.691798  50168.091037  62373.488049  37203.504309  31618.857532   \n",
       "4  53570.439760  50379.607826  62252.456624  37036.563545  31900.015153   \n",
       "5  54361.462752  50296.960691  62560.506714  41039.206014  31038.382064   \n",
       "6  53713.801608  50024.815124  61815.110556  38727.259930  31501.793919   \n",
       "7  54992.782414  50420.069668  61470.855325  38131.961839  31712.516670   \n",
       "8  53216.691798  50168.091037  62373.488049  37203.504309  31618.857532   \n",
       "9  53570.439760  50379.607826  62252.456624  37036.563545  31900.015153   \n",
       "\n",
       "         348210         352820         357780        363280        950130  \n",
       "0  60263.374643  308513.364845  334624.895895  31542.191165  27997.595012  \n",
       "1  60965.999742  308613.184035  329380.415292  31296.168187  27805.808610  \n",
       "2  61642.918332  307185.993759  329177.608851  31421.097728  28045.752600  \n",
       "3  62218.118154  308168.046414  332080.961423  31095.700330  27760.830942  \n",
       "4  61979.602842  306452.057782  332925.043789  31474.534603  27778.484687  \n",
       "5  60263.374643  308513.364845  334624.895895  31542.191165  27997.595012  \n",
       "6  60965.999742  308613.184035  329380.415292  31296.168187  27805.808610  \n",
       "7  61642.918332  307185.993759  329177.608851  31421.097728  28045.752600  \n",
       "8  62218.118154  308168.046414  332080.961423  31095.700330  27760.830942  \n",
       "9  61979.602842  306452.057782  332925.043789  31474.534603  27778.484687  \n",
       "\n",
       "[10 rows x 377 columns]"
      ]
     },
     "execution_count": 21,
     "metadata": {},
     "output_type": "execute_result"
    }
   ],
   "source": [
    "sample_submission"
   ]
  },
  {
   "cell_type": "code",
   "execution_count": null,
   "metadata": {},
   "outputs": [],
   "source": []
  }
 ],
 "metadata": {
  "kernelspec": {
   "display_name": "Python 3",
   "language": "python",
   "name": "python3"
  },
  "language_info": {
   "codemirror_mode": {
    "name": "ipython",
    "version": 3
   },
   "file_extension": ".py",
   "mimetype": "text/x-python",
   "name": "python",
   "nbconvert_exporter": "python",
   "pygments_lexer": "ipython3",
   "version": "3.7.6"
  }
 },
 "nbformat": 4,
 "nbformat_minor": 4
}
